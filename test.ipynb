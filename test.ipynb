{
 "cells": [
  {
   "cell_type": "code",
   "execution_count": null,
   "metadata": {},
   "outputs": [
    {
     "name": "stdout",
     "output_type": "stream",
     "text": [
      "0.11.4\n"
     ]
    }
   ],
   "source": [
    "import pdfplumber\n",
    "print(pdfplumber.__version__)"
   ]
  },
  {
   "cell_type": "code",
   "execution_count": 21,
   "metadata": {
    "slideshow": {
     "slide_type": "subslide"
    }
   },
   "outputs": [
    {
     "name": "stdout",
     "output_type": "stream",
     "text": [
      "150\n"
     ]
    }
   ],
   "source": [
    "pdf_path = \"./pdf/sample2.pdf\"\n",
    "with pdfplumber.open(pdf_path) as pdf:\n",
    "    for page in pdf.pages:\n",
    "        # Trích xuất toàn bộ văn bản trên trang\n",
    "        \"\"\" table = page.extract_table(\n",
    "            {\n",
    "                \"vertical_strategy\": \"lines\",\n",
    "                \"horizontal_strategy\": \"lines\",\n",
    "                # \"snap_y_tolerance\": 5,\n",
    "                # \"intersection_x_tolerance\": 15,\n",
    "            }\n",
    "        ) \"\"\"\n",
    "\n",
    "        table = page.extract_tables(\n",
    "            table_settings={\n",
    "                \"vertical_strategy\": \"explicit\",\n",
    "                \"horizontal_strategy\": \"lines\",\n",
    "                \"explicit_vertical_lines\": [0, 35, 36, 55, 56, 75, 76, 85],\n",
    "            }\n",
    "        )\n",
    "\n",
    "        tables = page.debug_tablefinder(\n",
    "            {\n",
    "                \"vertical_strategy\": \"text\",\n",
    "                \"horizontal_strategy\": \"lines\"\n",
    "            }\n",
    "        )\n",
    "        im = page.to_image()\n",
    "        im.show()\n",
    "        len_curves = len(page.curves)\n",
    "        print(len_curves)\n",
    "        \n",
    "        im.draw_lines(page.curves, stroke=\"green\", stroke_width=2)\n",
    "        im.show()\n",
    "        # for curve in page.curves:\n",
    "\t\t\t\t# \t\tprint()"
   ]
  },
  {
   "cell_type": "code",
   "execution_count": null,
   "metadata": {},
   "outputs": [],
   "source": []
  }
 ],
 "metadata": {
  "kernelspec": {
   "display_name": ".venv",
   "language": "python",
   "name": "python3"
  },
  "language_info": {
   "codemirror_mode": {
    "name": "ipython",
    "version": 3
   },
   "file_extension": ".py",
   "mimetype": "text/x-python",
   "name": "python",
   "nbconvert_exporter": "python",
   "pygments_lexer": "ipython3",
   "version": "3.10.13"
  }
 },
 "nbformat": 4,
 "nbformat_minor": 2
}
